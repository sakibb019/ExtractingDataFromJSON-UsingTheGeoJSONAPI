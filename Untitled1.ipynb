{
 "cells": [
  {
   "cell_type": "code",
   "execution_count": 1,
   "metadata": {},
   "outputs": [
    {
     "name": "stdout",
     "output_type": "stream",
     "text": [
      "Enter a URL: http://py4e-data.dr-chuck.net/comments_731144.json\n",
      "2357\n"
     ]
    }
   ],
   "source": [
    "import json\n",
    "import urllib\n",
    "url=input('Enter a URL: ')\n",
    "u=urllib.request.urlopen(url)\n",
    "dat=u.read()\n",
    "data=json.loads(dat)\n",
    "\n",
    "total=0\n",
    "for tags in data['comments']:\n",
    "    total+=tags['count']\n",
    "print (total)\n",
    "\n",
    "#print sum(nested_dict['count'] for nested_dict in js['comments'])\n",
    "\n"
   ]
  },
  {
   "cell_type": "code",
   "execution_count": 3,
   "metadata": {},
   "outputs": [
    {
     "name": "stdout",
     "output_type": "stream",
     "text": [
      "enter location:Washington State University\n",
      "Retrieving http://py4e-data.dr-chuck.net/json?address=Washington+State+University&key=42\n",
      "Retrieved 1759 characters\n",
      "{\n",
      "    \"results\": [\n",
      "        {\n",
      "            \"address_components\": [\n",
      "                {\n",
      "                    \"long_name\": \"Pullman\",\n",
      "                    \"short_name\": \"Pullman\",\n",
      "                    \"types\": [\n",
      "                        \"locality\",\n",
      "                        \"political\"\n",
      "                    ]\n",
      "                },\n",
      "                {\n",
      "                    \"long_name\": \"Whitman County\",\n",
      "                    \"short_name\": \"Whitman County\",\n",
      "                    \"types\": [\n",
      "                        \"administrative_area_level_2\",\n",
      "                        \"political\"\n",
      "                    ]\n",
      "                },\n",
      "                {\n",
      "                    \"long_name\": \"Washington\",\n",
      "                    \"short_name\": \"WA\",\n",
      "                    \"types\": [\n",
      "                        \"administrative_area_level_1\",\n",
      "                        \"political\"\n",
      "                    ]\n",
      "                },\n",
      "                {\n",
      "                    \"long_name\": \"United States\",\n",
      "                    \"short_name\": \"US\",\n",
      "                    \"types\": [\n",
      "                        \"country\",\n",
      "                        \"political\"\n",
      "                    ]\n",
      "                }\n",
      "            ],\n",
      "            \"formatted_address\": \"Pullman, WA, USA\",\n",
      "            \"geometry\": {\n",
      "                \"location\": {\n",
      "                    \"lat\": 46.7319225,\n",
      "                    \"lng\": -117.1542121\n",
      "                },\n",
      "                \"location_type\": \"GEOMETRIC_CENTER\",\n",
      "                \"viewport\": {\n",
      "                    \"northeast\": {\n",
      "                        \"lat\": 46.73327148029149,\n",
      "                        \"lng\": -117.1528631197085\n",
      "                    },\n",
      "                    \"southwest\": {\n",
      "                        \"lat\": 46.73057351970849,\n",
      "                        \"lng\": -117.1555610802915\n",
      "                    }\n",
      "                }\n",
      "            },\n",
      "            \"place_id\": \"ChIJb6hIyAWHn1QR23BXtaTyZfQ\",\n",
      "            \"plus_code\": {\n",
      "                \"compound_code\": \"PRJW+Q8 Pullman, WA, United States\",\n",
      "                \"global_code\": \"85R4PRJW+Q8\"\n",
      "            },\n",
      "            \"types\": [\n",
      "                \"establishment\",\n",
      "                \"gym\",\n",
      "                \"health\",\n",
      "                \"museum\",\n",
      "                \"point_of_interest\",\n",
      "                \"university\"\n",
      "            ]\n",
      "        }\n",
      "    ],\n",
      "    \"status\": \"OK\"\n",
      "}\n",
      "place id ChIJb6hIyAWHn1QR23BXtaTyZfQ\n"
     ]
    }
   ],
   "source": [
    "import urllib.request, urllib.parse, urllib.error\n",
    "import json\n",
    "\n",
    "\n",
    "target = 'http://py4e-data.dr-chuck.net/json?'\n",
    "local = input('enter location:')\n",
    "url = target + urllib.parse.urlencode({'address': local, 'key' : 42})\n",
    "\n",
    "print('Retrieving', url)\n",
    "data = urllib.request.urlopen(url).read()\n",
    "print('Retrieved', len(data), 'characters')\n",
    "js = json.loads(data)\n",
    "print(json.dumps(js, indent=4))\n",
    "print('place id',js['results'][0]['place_id'])\n",
    "\n"
   ]
  }
 ],
 "metadata": {
  "kernelspec": {
   "display_name": "Python 3",
   "language": "python",
   "name": "python3"
  },
  "language_info": {
   "codemirror_mode": {
    "name": "ipython",
    "version": 3
   },
   "file_extension": ".py",
   "mimetype": "text/x-python",
   "name": "python",
   "nbconvert_exporter": "python",
   "pygments_lexer": "ipython3",
   "version": "3.6.10"
  }
 },
 "nbformat": 4,
 "nbformat_minor": 4
}
